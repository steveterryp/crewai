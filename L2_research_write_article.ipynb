{
 "cells": [
  {
   "cell_type": "markdown",
   "metadata": {},
   "source": [
    "You can download the `requirements.txt` for this course from the workspace of this lab. `File --> Open...`"
   ]
  },
  {
   "cell_type": "markdown",
   "metadata": {},
   "source": [
    "# L2: Create Agents to Research and Write an Article\n",
    "\n",
    "In this lesson, you will be introduced to the foundational concepts of multi-agent systems and get an overview of the crewAI framework."
   ]
  },
  {
   "cell_type": "markdown",
   "metadata": {},
   "source": [
    "The libraries are already installed in the classroom. If you're running this notebook on your own machine, you can install the following:\n",
    "```Python\n",
    "!pip install crewai==0.28.8 crewai_tools==0.1.6 langchain_community==0.0.29\n",
    "```"
   ]
  },
  {
   "cell_type": "code",
   "execution_count": 1,
   "metadata": {
    "height": 63
   },
   "outputs": [],
   "source": [
    "# Warning control\n",
    "import warnings\n",
    "warnings.filterwarnings('ignore')"
   ]
  },
  {
   "cell_type": "markdown",
   "metadata": {},
   "source": [
    "- Import from the crewAI libray."
   ]
  },
  {
   "cell_type": "code",
   "execution_count": 2,
   "metadata": {
    "height": 30
   },
   "outputs": [],
   "source": [
    "from crewai import Agent, Task, Crew"
   ]
  },
  {
   "cell_type": "markdown",
   "metadata": {},
   "source": [
    "- As a LLM for your agents, you'll be using OpenAI's `gpt-3.5-turbo`.\n",
    "\n",
    "**Optional Note:** crewAI also allow other popular models to be used as a LLM for your Agents. You can see some of the examples at the [bottom of the notebook](#1)."
   ]
  },
  {
   "cell_type": "code",
   "execution_count": 3,
   "metadata": {
    "height": 114
   },
   "outputs": [],
   "source": [
    "import os\n",
    "from dotenv import load_dotenv\n",
    "\n",
    "# Load environment variables from .env file\n",
    "load_dotenv()\n",
    "\n",
    "def get_openai_api_key():\n",
    "    return os.getenv(\"OPENAI_API_KEY\")\n",
    "openai_api_key = get_openai_api_key()\n",
    "os.environ[\"OPENAI_MODEL_NAME\"] = 'gpt-3.5-turbo'"
   ]
  },
  {
   "cell_type": "markdown",
   "metadata": {},
   "source": [
    "## Creating Agents\n",
    "\n",
    "- Define your Agents, and provide them a `role`, `goal` and `backstory`.\n",
    "- It has been seen that LLMs perform better when they are role playing."
   ]
  },
  {
   "cell_type": "markdown",
   "metadata": {},
   "source": [
    "### Agent: Planner\n",
    "\n",
    "**Note**: The benefit of using _multiple strings_ :\n",
    "```Python\n",
    "varname = \"line 1 of text\"\n",
    "          \"line 2 of text\"\n",
    "```\n",
    "\n",
    "versus the _triple quote docstring_:\n",
    "```Python\n",
    "varname = \"\"\"line 1 of text\n",
    "             line 2 of text\n",
    "          \"\"\"\n",
    "```\n",
    "is that it can avoid adding those whitespaces and newline characters, making it better formatted to be passed to the LLM."
   ]
  },
  {
   "cell_type": "code",
   "execution_count": 4,
   "metadata": {
    "height": 250
   },
   "outputs": [],
   "source": [
    "planner = Agent(\n",
    "    role=\"Content Planner\",\n",
    "    goal=\"Plan engaging and factually accurate content on {topic}\",\n",
    "    backstory=\"You're working on planning a blog article \"\n",
    "              \"about the topic: {topic}.\"\n",
    "              \"You collect information that helps the \"\n",
    "              \"audience learn something \"\n",
    "              \"and make informed decisions. \"\n",
    "              \"Your work is the basis for \"\n",
    "              \"the Content Writer to write an article on this topic.\",\n",
    "    allow_delegation=False,\n",
    "\tverbose=True\n",
    ")"
   ]
  },
  {
   "cell_type": "markdown",
   "metadata": {},
   "source": [
    "### Agent: Writer"
   ]
  },
  {
   "cell_type": "code",
   "execution_count": 5,
   "metadata": {
    "height": 386
   },
   "outputs": [],
   "source": [
    "writer = Agent(\n",
    "    role=\"Content Writer\",\n",
    "    goal=\"Write insightful and factually accurate \"\n",
    "         \"opinion piece about the topic: {topic}\",\n",
    "    backstory=\"You're working on a writing \"\n",
    "              \"a new opinion piece about the topic: {topic}. \"\n",
    "              \"You base your writing on the work of \"\n",
    "              \"the Content Planner, who provides an outline \"\n",
    "              \"and relevant context about the topic. \"\n",
    "              \"You follow the main objectives and \"\n",
    "              \"direction of the outline, \"\n",
    "              \"as provide by the Content Planner. \"\n",
    "              \"You also provide objective and impartial insights \"\n",
    "              \"and back them up with information \"\n",
    "              \"provide by the Content Planner. \"\n",
    "              \"You acknowledge in your opinion piece \"\n",
    "              \"when your statements are opinions \"\n",
    "              \"as opposed to objective statements.\",\n",
    "    allow_delegation=False,\n",
    "    verbose=True\n",
    ")"
   ]
  },
  {
   "cell_type": "markdown",
   "metadata": {},
   "source": [
    "### Agent: Editor"
   ]
  },
  {
   "cell_type": "code",
   "execution_count": 6,
   "metadata": {
    "height": 284
   },
   "outputs": [],
   "source": [
    "editor = Agent(\n",
    "    role=\"Editor\",\n",
    "    goal=\"Edit a given blog post to align with \"\n",
    "         \"the writing style of the organization. \",\n",
    "    backstory=\"You are an editor who receives a blog post \"\n",
    "              \"from the Content Writer. \"\n",
    "              \"Your goal is to review the blog post \"\n",
    "              \"to ensure that it follows journalistic best practices,\"\n",
    "              \"provides balanced viewpoints \"\n",
    "              \"when providing opinions or assertions, \"\n",
    "              \"and also avoids major controversial topics \"\n",
    "              \"or opinions when possible.\",\n",
    "    allow_delegation=False,\n",
    "    verbose=True\n",
    ")"
   ]
  },
  {
   "cell_type": "markdown",
   "metadata": {},
   "source": [
    "## Creating Tasks\n",
    "\n",
    "- Define your Tasks, and provide them a `description`, `expected_output` and `agent`."
   ]
  },
  {
   "cell_type": "markdown",
   "metadata": {},
   "source": [
    "### Task: Plan"
   ]
  },
  {
   "cell_type": "code",
   "execution_count": 7,
   "metadata": {
    "height": 284
   },
   "outputs": [],
   "source": [
    "plan = Task(\n",
    "    description=(\n",
    "        \"1. Prioritize the latest trends, key players, \"\n",
    "            \"and noteworthy news on {topic}.\\n\"\n",
    "        \"2. Identify the target audience, considering \"\n",
    "            \"their interests and pain points.\\n\"\n",
    "        \"3. Develop a detailed content outline including \"\n",
    "            \"an introduction, key points, and a call to action.\\n\"\n",
    "        \"4. Include SEO keywords and relevant data or sources.\"\n",
    "    ),\n",
    "    expected_output=\"A comprehensive content plan document \"\n",
    "        \"with an outline, audience analysis, \"\n",
    "        \"SEO keywords, and resources.\",\n",
    "    agent=planner,\n",
    ")"
   ]
  },
  {
   "cell_type": "markdown",
   "metadata": {},
   "source": [
    "### Task: Write"
   ]
  },
  {
   "cell_type": "code",
   "execution_count": 8,
   "metadata": {
    "height": 335
   },
   "outputs": [],
   "source": [
    "write = Task(\n",
    "    description=(\n",
    "        \"1. Use the content plan to craft a compelling \"\n",
    "            \"blog post on {topic}.\\n\"\n",
    "        \"2. Incorporate SEO keywords naturally.\\n\"\n",
    "\t\t\"3. Sections/Subtitles are properly named \"\n",
    "            \"in an engaging manner.\\n\"\n",
    "        \"4. Ensure the post is structured with an \"\n",
    "            \"engaging introduction, insightful body, \"\n",
    "            \"and a summarizing conclusion.\\n\"\n",
    "        \"5. Proofread for grammatical errors and \"\n",
    "            \"alignment with the brand's voice.\\n\"\n",
    "    ),\n",
    "    expected_output=\"A well-written blog post \"\n",
    "        \"in markdown format, ready for publication, \"\n",
    "        \"each section should have 2 or 3 paragraphs.\",\n",
    "    agent=writer,\n",
    ")"
   ]
  },
  {
   "cell_type": "markdown",
   "metadata": {},
   "source": [
    "### Task: Edit"
   ]
  },
  {
   "cell_type": "code",
   "execution_count": 9,
   "metadata": {
    "height": 182
   },
   "outputs": [],
   "source": [
    "edit = Task(\n",
    "    description=(\"Proofread the given blog post for \"\n",
    "                 \"grammatical errors and \"\n",
    "                 \"alignment with the brand's voice.\"),\n",
    "    expected_output=\"A well-written blog post in markdown format, \"\n",
    "                    \"ready for publication, \"\n",
    "                    \"each section should have 2 or 3 paragraphs.\",\n",
    "    agent=editor\n",
    ")"
   ]
  },
  {
   "cell_type": "markdown",
   "metadata": {},
   "source": [
    "## Creating the Crew\n",
    "\n",
    "- Create your crew of Agents\n",
    "- Pass the tasks to be performed by those agents.\n",
    "    - **Note**: *For this simple example*, the tasks will be performed sequentially (i.e they are dependent on each other), so the _order_ of the task in the list _matters_.\n",
    "- `verbose=2` allows you to see all the logs of the execution. "
   ]
  },
  {
   "cell_type": "code",
   "execution_count": 10,
   "metadata": {
    "height": 98
   },
   "outputs": [],
   "source": [
    "crew = Crew(\n",
    "    agents=[planner, writer, editor],\n",
    "    tasks=[plan, write, edit],\n",
    "    verbose=True\n",
    ")"
   ]
  },
  {
   "cell_type": "markdown",
   "metadata": {},
   "source": [
    "## Running the Crew"
   ]
  },
  {
   "cell_type": "markdown",
   "metadata": {},
   "source": [
    "**Note**: LLMs can provide different outputs for they same input, so what you get might be different than what you see in the video."
   ]
  },
  {
   "cell_type": "code",
   "execution_count": 11,
   "metadata": {
    "height": 46
   },
   "outputs": [
    {
     "name": "stdout",
     "output_type": "stream",
     "text": [
      "\u001b[1m\u001b[95m# Agent:\u001b[00m \u001b[1m\u001b[92mContent Planner\u001b[00m\n",
      "\u001b[95m## Task:\u001b[00m \u001b[92m1. Prioritize the latest trends, key players, and noteworthy news on Artificial Intelligence.\n",
      "2. Identify the target audience, considering their interests and pain points.\n",
      "3. Develop a detailed content outline including an introduction, key points, and a call to action.\n",
      "4. Include SEO keywords and relevant data or sources.\u001b[00m\n",
      "\n",
      "\n",
      "\u001b[1m\u001b[95m# Agent:\u001b[00m \u001b[1m\u001b[92mContent Planner\u001b[00m\n",
      "\u001b[95m## Final Answer:\u001b[00m \u001b[92m\n",
      "Title: Unveiling the Power of Artificial Intelligence: Latest Trends, Key Players, and Insights\n",
      "\n",
      "Introduction:\n",
      "Artificial Intelligence (AI) is revolutionizing industries worldwide, with continuous advancements reshaping the way we live and work. In this article, we delve into the latest trends in AI, spotlight key players driving innovation, and provide insights to help you navigate this dynamic landscape effectively.\n",
      "\n",
      "Audience Analysis:\n",
      "Our target audience includes professionals seeking to expand their knowledge of AI, technology enthusiasts eager to stay updated on the latest trends, and businesses looking to leverage AI for growth. Understanding the interests and pain points of these groups is crucial to delivering valuable content that resonates with them.\n",
      "\n",
      "SEO Keywords:\n",
      "1. AI trends 2022\n",
      "2. Top AI companies\n",
      "3. Artificial Intelligence innovations\n",
      "4. AI applications in business\n",
      "5. Future of AI technology\n",
      "\n",
      "Content Outline:\n",
      "I. Introduction\n",
      "- Definition and significance of Artificial Intelligence\n",
      "- Brief overview of the article's focus\n",
      "\n",
      "II. Latest Trends in Artificial Intelligence\n",
      "- Exploring the rise of AI in various industries\n",
      "- Highlighting key developments and breakthroughs\n",
      "- Predictions for the future of AI technology\n",
      "\n",
      "III. Key Players in the AI Landscape\n",
      "- Profiles of leading AI companies and their contributions\n",
      "- Analysis of industry giants and emerging startups\n",
      "- Case studies showcasing successful AI implementations\n",
      "\n",
      "IV. Insights for Navigating the AI Landscape\n",
      "- Practical tips for businesses incorporating AI solutions\n",
      "- Ethical considerations in AI development and deployment\n",
      "- Opportunities and challenges in harnessing AI for growth\n",
      "\n",
      "V. Call to Action\n",
      "- Encouraging readers to explore AI further\n",
      "- Promoting engagement through social media or related resources\n",
      "\n",
      "Resources:\n",
      "1. Forbes - Top AI Companies to Watch\n",
      "2. Gartner - Latest Reports on AI Trends\n",
      "3. Harvard Business Review - Ethical AI Practices\n",
      "4. McKinsey & Company - Insights on AI Applications in Business\n",
      "5. AI conferences and events for networking and learning opportunities\n",
      "\n",
      "By addressing the latest trends, profiling key players, and providing valuable insights, this article will empower our audience to make informed decisions and maximize the potential of Artificial Intelligence in their respective fields.\u001b[00m\n",
      "\n",
      "\n",
      "\u001b[1m\u001b[95m# Agent:\u001b[00m \u001b[1m\u001b[92mContent Writer\u001b[00m\n",
      "\u001b[95m## Task:\u001b[00m \u001b[92m1. Use the content plan to craft a compelling blog post on Artificial Intelligence.\n",
      "2. Incorporate SEO keywords naturally.\n",
      "3. Sections/Subtitles are properly named in an engaging manner.\n",
      "4. Ensure the post is structured with an engaging introduction, insightful body, and a summarizing conclusion.\n",
      "5. Proofread for grammatical errors and alignment with the brand's voice.\n",
      "\u001b[00m\n",
      "\n",
      "\n",
      "\u001b[1m\u001b[95m# Agent:\u001b[00m \u001b[1m\u001b[92mContent Writer\u001b[00m\n",
      "\u001b[95m## Final Answer:\u001b[00m \u001b[92m\n",
      "# Unveiling the Power of Artificial Intelligence: Latest Trends, Key Players, and Insights\n",
      "\n",
      "## Introduction\n",
      "\n",
      "Artificial Intelligence (AI) stands as one of the most transformative technologies of our time, significantly impacting industries and societies globally. Its rapid evolution continues to reshape traditional paradigms by enabling machines to learn, adapt, and perform tasks that typically require human intelligence. In this article, we delve into the realm of AI, shedding light on the current trends, prominent industry players, and insights essential for navigating this dynamic landscape effectively.\n",
      "\n",
      "## Latest Trends in Artificial Intelligence\n",
      "\n",
      "The adoption of AI has been soaring across diverse sectors, with notable developments in fields such as healthcare, finance, and marketing. Innovations like autonomous vehicles, predictive analytics, and natural language processing are pushing boundaries and transforming how businesses operate. As AI becomes more integrated into our daily lives, predicting the future trajectory of this technology remains a topic of intense speculation. From enhanced personalization to heightened cybersecurity measures, the potential applications of AI in the coming years are limitless, promising both disruptive changes and unparalleled opportunities for growth.\n",
      "\n",
      "## Key Players in the AI Landscape\n",
      "\n",
      "Leading the charge in the AI space are renowned companies like Google, Amazon, and IBM, constantly pioneering new AI solutions and setting benchmarks for the industry. However, the landscape is not solely dominated by tech giants; startups and research institutions are also making significant strides in AI innovation. Through case studies and success stories, we witness the real-world impact of AI implementations, illustrating how organizations across sectors are leveraging this technology to streamline operations, drive efficiency, and unlock new value propositions.\n",
      "\n",
      "## Insights for Navigating the AI Landscape\n",
      "\n",
      "For businesses venturing into AI integration, practical guidance is crucial to ensure successful implementation and sustainable growth. Ethical considerations surrounding AI development, such as bias mitigation and data privacy, demand careful attention to foster responsible innovation. Furthermore, the dynamic nature of AI poses both opportunities and challenges, requiring businesses to adapt swiftly to stay ahead of the curve. By understanding the nuances of AI deployment and staying informed on emerging trends, organizations can harness the full potential of AI to fuel their strategic objectives and stay competitive in a rapidly evolving market landscape.\n",
      "\n",
      "## Call to Action\n",
      "\n",
      "As we navigate the complexities and opportunities presented by AI, it is essential for our audience to explore further resources and engage with the AI community. Whether through networking at AI conferences, staying updated on reports from industry leaders, or participating in discussions on ethical AI practices, continuous learning and collaboration are key to unlocking the transformative power of Artificial Intelligence. Embracing AI with a strategic mindset and a commitment to ethical best practices will pave the way for sustainable growth and innovation in the digital era.\n",
      "\n",
      "By addressing the latest trends, profiling key players, and providing valuable insights, this article aims to empower readers across various domains to embrace AI with confidence, strategic foresight, and a commitment to responsible innovation. Let us embark on this journey together as we unravel the vast potential and possibilities that Artificial Intelligence holds for shaping a more efficient, intelligent, and interconnected future.\u001b[00m\n",
      "\n",
      "\n",
      "\u001b[1m\u001b[95m# Agent:\u001b[00m \u001b[1m\u001b[92mEditor\u001b[00m\n",
      "\u001b[95m## Task:\u001b[00m \u001b[92mProofread the given blog post for grammatical errors and alignment with the brand's voice.\u001b[00m\n",
      "\n",
      "\n",
      "\u001b[1m\u001b[95m# Agent:\u001b[00m \u001b[1m\u001b[92mEditor\u001b[00m\n",
      "\u001b[95m## Final Answer:\u001b[00m \u001b[92m\n",
      "# Unveiling the Power of Artificial Intelligence: Latest Trends, Key Players, and Insights\n",
      "\n",
      "## Introduction\n",
      "\n",
      "Artificial Intelligence (AI) has emerged as a groundbreaking technology, revolutionizing industries and societies worldwide. This article delves into the realm of AI, exploring current trends, major industry players, and insights essential for navigating this rapidly evolving landscape. The ability of AI to enable machines to learn, adapt, and execute tasks that traditionally require human intelligence is driving significant changes across various sectors.\n",
      "\n",
      "## Latest Trends in Artificial Intelligence\n",
      "\n",
      "The widespread adoption of AI is evident across diverse fields such as healthcare, finance, and marketing. Innovations like autonomous vehicles, predictive analytics, and natural language processing are pushing boundaries and reshaping business operations. As AI becomes more ingrained in our daily lives, predicting its future trajectory remains a subject of intense speculation. The potential applications of AI in the years ahead range from enhanced personalization to bolstered cybersecurity measures, offering disruptive changes and unprecedented growth opportunities.\n",
      "\n",
      "## Key Players in the AI Landscape\n",
      "\n",
      "Industry leaders like Google, Amazon, and IBM are at the forefront of AI innovation, constantly introducing new solutions and setting industry benchmarks. Beyond tech giants, startups and research institutions are also driving progress in AI. Through impactful case studies, we witness how organizations are leveraging AI to enhance efficiency, streamline operations, and create new value propositions across sectors.\n",
      "\n",
      "## Insights for Navigating the AI Landscape\n",
      "\n",
      "Practical guidance is essential for businesses venturing into AI integration to ensure successful implementation and sustainable growth. Addressing ethical considerations like bias mitigation and data privacy is crucial for fostering responsible innovation in AI development. The dynamic nature of AI presents both opportunities and challenges, necessitating businesses to adapt swiftly to maintain a competitive edge. By comprehending the intricacies of AI deployment and staying abreast of emerging trends, organizations can leverage AI to achieve their strategic objectives and thrive in a rapidly changing market environment.\n",
      "\n",
      "## Call to Action\n",
      "\n",
      "In navigating the complexities and opportunities of AI, engagement with the AI community and exploration of further resources are key. Whether through participating in AI conferences, staying informed on insights from industry leaders, or engaging in discussions on ethical AI practices, continuous learning and collaboration are vital for unlocking the transformative potential of Artificial Intelligence. By embracing AI with a strategic outlook and a dedication to ethical best practices, organizations can foster sustainable growth and innovation in the digital age.\n",
      "\n",
      "This article strives to empower readers from various sectors to embrace AI confidently, with strategic foresight and a commitment to responsible innovation. Let us embark on this journey together to uncover the immense potential and possibilities that Artificial Intelligence offers in shaping a more intelligent, interconnected future.\u001b[00m\n",
      "\n",
      "\n"
     ]
    }
   ],
   "source": [
    "result = crew.kickoff(inputs={\"topic\": \"Artificial Intelligence\"})"
   ]
  },
  {
   "cell_type": "markdown",
   "metadata": {},
   "source": [
    "- Display the results of your execution as markdown in the notebook."
   ]
  },
  {
   "cell_type": "code",
   "execution_count": 15,
   "metadata": {
    "height": 47
   },
   "outputs": [
    {
     "data": {
      "text/markdown": [
       "# Unveiling the Future of Artificial Intelligence: Trends, Key Players, and How it Impacts You\n",
       "\n",
       "## Introduction\n",
       "\n",
       "Artificial Intelligence (AI) stands at the forefront of technological innovation, revolutionizing the way we interact with machines and data. Defined as the simulation of human intelligence processes by machines, AI has become an integral part of our daily lives, from virtual assistants to predictive algorithms. In today's fast-paced world, the importance of AI cannot be understated, as it drives efficiency, enhances decision-making processes, and unlocks new possibilities across various industries.\n",
       "\n",
       "## Latest Trends in Artificial Intelligence\n",
       "\n",
       "Machine Learning and Deep Learning are driving the latest advancements in AI, allowing systems to learn from data and improve their performance without being explicitly programmed. These technologies are powering breakthroughs in healthcare, finance, and diverse sectors, enabling personalized medicine, fraud detection, and more. However, with great power comes great responsibility, leading to a growing emphasis on ethical considerations in AI development. Ensuring transparency, fairness, and accountability in AI algorithms is paramount to building trust and mitigating potential biases.\n",
       "\n",
       "## Key Players in the AI Industry\n",
       "\n",
       "Tech giants like Google, Amazon, and Microsoft dominate the AI landscape, leveraging their resources and expertise to push the boundaries of innovation. Alongside these industry titans, emerging startups are making significant strides in AI, bringing fresh ideas and disruptive solutions to the market. This diverse ecosystem of players fosters competition, spurring advancements and democratizing access to AI technologies across sectors.\n",
       "\n",
       "## Noteworthy News on AI\n",
       "\n",
       "Stay informed with the latest breakthroughs in AI research, from cutting-edge algorithms to AI-driven applications reshaping our future. These developments highlight the transformative power of AI in enhancing efficiency, enabling new services, and addressing complex challenges. By keeping abreast of AI news updates, enthusiasts and professionals can gain valuable insights into the evolving landscape of artificial intelligence.\n",
       "\n",
       "## Impact of AI on Society\n",
       "\n",
       "The rise of AI is reshaping the workforce, with automation threatening traditional jobs while creating opportunities for innovative roles. Understanding the implications of AI on employment is crucial for preparing individuals and industries for the future job market. Additionally, AI plays a pivotal role in enhancing customer experiences, from personalized recommendations to predictive analytics, enriching interactions and driving business growth.\n",
       "\n",
       "## Call to Action\n",
       "\n",
       "As AI continues to evolve, it is essential for individuals to stay informed about developments, trends, and ethical considerations in the field. Engage with AI news sources such as Forbes, MIT Technology Review, and World Economic Forum to deepen your understanding of the societal impact of AI. Share your thoughts on how AI is shaping our world and participate in the dialogue surrounding its implications.\n",
       "\n",
       "In conclusion, Artificial Intelligence presents a world of possibilities and challenges, shaping the way we work, interact, and innovate. Embracing the future of AI requires a nuanced understanding of its trends, key players, and societal impact. Let's embark on this journey together, exploring the limitless potential of Artificial Intelligence."
      ],
      "text/plain": [
       "<IPython.core.display.Markdown object>"
      ]
     },
     "execution_count": 15,
     "metadata": {},
     "output_type": "execute_result"
    }
   ],
   "source": [
    "from IPython.display import Markdown\n",
    "Markdown(result.raw)"
   ]
  },
  {
   "cell_type": "markdown",
   "metadata": {},
   "source": [
    "## Try it Yourself\n",
    "\n",
    "- Pass in a topic of your choice and see what the agents come up with!"
   ]
  },
  {
   "cell_type": "code",
   "execution_count": 16,
   "metadata": {
    "height": 63
   },
   "outputs": [
    {
     "name": "stdout",
     "output_type": "stream",
     "text": [
      "\u001b[1m\u001b[95m# Agent:\u001b[00m \u001b[1m\u001b[92mContent Planner\u001b[00m\n",
      "\u001b[95m## Task:\u001b[00m \u001b[92m1. Prioritize the latest trends, key players, and noteworthy news on Non-profit organizations use cases for AI.\n",
      "2. Identify the target audience, considering their interests and pain points.\n",
      "3. Develop a detailed content outline including an introduction, key points, and a call to action.\n",
      "4. Include SEO keywords and relevant data or sources.\u001b[00m\n",
      "\n",
      "\n",
      "\u001b[1m\u001b[95m# Agent:\u001b[00m \u001b[1m\u001b[92mContent Planner\u001b[00m\n",
      "\u001b[95m## Final Answer:\u001b[00m \u001b[92m\n",
      "Title: Leveraging AI for Social Impact: Non-profit Organizations Utilizing Artificial Intelligence\n",
      "\n",
      "\n",
      "Introduction:\n",
      "In recent years, the integration of artificial intelligence (AI) in non-profit organizations has revolutionized the way these entities operate, enabling them to streamline processes, optimize resource allocation, and reach their goals more effectively. This article explores the use cases of AI in the non-profit sector, highlighting the key players, recent trends, and the potential impact of AI technology on social causes.\n",
      "\n",
      "\n",
      "Key Points:\n",
      "I. Overview of AI in the Non-profit Sector\n",
      "    A. Definition of AI and its relevance in non-profit organizations\n",
      "    B. Benefits of AI integration for social impact initiatives\n",
      "II. Use Cases of AI in Non-profit Organizations\n",
      "    A. Fundraising and Donor Management\n",
      "    B. Program Evaluation and Impact Assessment\n",
      "    C. Volunteer Matching and Engagement\n",
      "    D. Predictive Analytics for Decision Making\n",
      "III. Key Players and Noteworthy Innovations\n",
      "    A. Case Studies of successful AI implementation in non-profits\n",
      "    B. Collaborations between tech companies and non-profit organizations\n",
      "IV. Opportunities and Challenges in AI Adoption\n",
      "    A. Potential for scalability and efficiency\n",
      "    B. Ethical considerations and data privacy in AI applications\n",
      "V. Call to Action: Embracing AI for Social Good\n",
      "    A. Encouraging non-profits to explore AI solutions\n",
      "    B. Advocating for transparency and responsible AI usage\n",
      "\n",
      "\n",
      "Audience Analysis:\n",
      "Target Audience: Non-profit professionals, tech enthusiasts, policymakers, and individuals interested in social impact initiatives.\n",
      "Interests: Interested in leveraging technology for social good, seeking innovative solutions to address societal challenges.\n",
      "Pain Points: Limited resources, inefficient processes, challenges in measuring impact, lack of awareness about AI applications in the non-profit sector.\n",
      "\n",
      "\n",
      "SEO Keywords:\n",
      "1. AI in Non-profit Sector\n",
      "2. Artificial Intelligence for Social Impact\n",
      "3. Non-profit Organizations and AI\n",
      "4. AI Use Cases in Social Sector\n",
      "5. Technology for Social Good\n",
      "\n",
      "\n",
      "Resources:\n",
      "- Stanford Social Innovation Review: The Next Frontier for AI in Nonprofits\n",
      "- Forbes: How AI is Revolutionizing the Non-Profit Sector\n",
      "- Harvard Business Review: Using AI for Social Good in Non-profit Organizations\n",
      "- TechSoup: Tools and Resources for Non-profits to Implement AI Solutions\n",
      "- Charity Digital News: The Impact of AI on Fundraising and Donor Management in the Non-profit Sector\n",
      "\n",
      "By addressing key trends, showcasing notable players, and providing valuable insights into the applications of AI in non-profit organizations, this article aims to inform and inspire readers to harness the power of artificial intelligence for social impact.\u001b[00m\n",
      "\n",
      "\n",
      "\u001b[1m\u001b[95m# Agent:\u001b[00m \u001b[1m\u001b[92mContent Writer\u001b[00m\n",
      "\u001b[95m## Task:\u001b[00m \u001b[92m1. Use the content plan to craft a compelling blog post on Non-profit organizations use cases for AI.\n",
      "2. Incorporate SEO keywords naturally.\n",
      "3. Sections/Subtitles are properly named in an engaging manner.\n",
      "4. Ensure the post is structured with an engaging introduction, insightful body, and a summarizing conclusion.\n",
      "5. Proofread for grammatical errors and alignment with the brand's voice.\n",
      "\u001b[00m\n",
      "\n",
      "\n",
      "\u001b[1m\u001b[95m# Agent:\u001b[00m \u001b[1m\u001b[92mContent Writer\u001b[00m\n",
      "\u001b[95m## Final Answer:\u001b[00m \u001b[92m\n",
      "# Leveraging AI for Social Impact: Non-profit Organizations Utilizing Artificial Intelligence\n",
      "\n",
      "## Introduction\n",
      "In an era characterized by technological advancements, non-profit organizations have increasingly turned to artificial intelligence (AI) to enhance their operations and drive more significant social impact. AI has emerged as a valuable tool that allows non-profits to streamline processes, optimize resource allocation, and achieve their goals more efficiently. This article delves into the various use cases of AI in the non-profit sector, shedding light on how AI technology is transforming social impact initiatives.\n",
      "\n",
      "## Overview of AI in the Non-profit Sector\n",
      "AI refers to the simulation of human intelligence processes by machines, including learning, reasoning, and self-correction. In the realm of non-profit organizations, AI plays a critical role in enhancing efficiency and effectiveness. By harnessing AI tools, non-profits can automate tasks, analyze vast amounts of data, and make data-driven decisions that contribute to achieving their social missions. The integration of AI can lead to improved outcomes, increased transparency, and enhanced scalability for non-profit initiatives.\n",
      "\n",
      "AI integration offers a wide array of benefits for social impact initiatives within non-profit organizations. From enhancing fundraising efforts to improving program evaluation, AI tools empower non-profits to make informed decisions and allocate resources strategically. By leveraging AI for tasks such as donor management, volunteer matching, and predictive analytics, non-profits can optimize their operations and focus on maximizing their impact in the communities they serve.\n",
      "\n",
      "## Use Cases of AI in Non-profit Organizations\n",
      "### Fundraising and Donor Management\n",
      "AI tools can analyze donor behavior, predict giving patterns, and personalize fundraising campaigns to maximize donations. Non-profits can use AI-powered platforms to identify potential donors, tailor communication strategies, and optimize fundraising strategies for greater success.\n",
      "\n",
      "### Program Evaluation and Impact Assessment\n",
      "AI enables non-profits to track and evaluate the effectiveness of their programs in real-time. By analyzing data and feedback, AI algorithms can help organizations measure outcomes, assess impact, and make data-informed decisions to continuously improve their initiatives.\n",
      "\n",
      "### Volunteer Matching and Engagement\n",
      "AI platforms can match volunteers with suitable opportunities based on their skills, interests, and availability. By automating the volunteer matching process, non-profits can increase volunteer engagement, retention, and overall satisfaction, leading to more sustainable volunteer programs.\n",
      "\n",
      "### Predictive Analytics for Decision Making\n",
      "AI-powered predictive analytics tools help non-profits forecast trends, anticipate community needs, and optimize resource allocation. By leveraging data-driven insights, organizations can make informed decisions, mitigate risks, and adapt their strategies to better serve their beneficiaries.\n",
      "\n",
      "Stay tuned for Part 2 of the blog post.\u001b[00m\n",
      "\n",
      "\n",
      "\u001b[1m\u001b[95m# Agent:\u001b[00m \u001b[1m\u001b[92mEditor\u001b[00m\n",
      "\u001b[95m## Task:\u001b[00m \u001b[92mProofread the given blog post for grammatical errors and alignment with the brand's voice.\u001b[00m\n",
      "\n",
      "\n",
      "\u001b[1m\u001b[95m# Agent:\u001b[00m \u001b[1m\u001b[92mEditor\u001b[00m\n",
      "\u001b[95m## Final Answer:\u001b[00m \u001b[92m\n",
      "# Leveraging AI for Social Impact: Non-profit Organizations Utilizing Artificial Intelligence\n",
      "\n",
      "## Introduction\n",
      "In an era characterized by technological advancements, non-profit organizations have increasingly turned to artificial intelligence (AI) to enhance their operations and drive more significant social impact. AI has emerged as a valuable tool that allows non-profits to streamline processes, optimize resource allocation, and achieve their goals more efficiently. This article delves into the various use cases of AI in the non-profit sector, shedding light on how AI technology is transforming social impact initiatives.\n",
      "\n",
      "Artificial Intelligence, or AI, refers to the simulation of human intelligence processes by machines, including learning, reasoning, and self-correction. In the realm of non-profit organizations, AI plays a critical role in enhancing efficiency and effectiveness. By harnessing AI tools, non-profits can automate tasks, analyze vast amounts of data, and make data-driven decisions that contribute to achieving their social missions. The integration of AI can lead to improved outcomes, increased transparency, and enhanced scalability for non-profit initiatives.\n",
      "\n",
      "## Overview of AI in the Non-profit Sector\n",
      "AI integration offers a wide array of benefits for social impact initiatives within non-profit organizations. From enhancing fundraising efforts to improving program evaluation, AI tools empower non-profits to make informed decisions and allocate resources strategically. By leveraging AI for tasks such as donor management, volunteer matching, and predictive analytics, non-profits can optimize their operations and focus on maximizing their impact in the communities they serve.\n",
      "\n",
      "AI tools can analyze donor behavior, predict giving patterns, and personalize fundraising campaigns to maximize donations. Non-profits can use AI-powered platforms to identify potential donors, tailor communication strategies, and optimize fundraising strategies for greater success. AI enables non-profits to track and evaluate the effectiveness of their programs in real-time. By analyzing data and feedback, AI algorithms can help organizations measure outcomes, assess impact, and make data-informed decisions to continuously improve their initiatives. AI platforms can match volunteers with suitable opportunities based on their skills, interests, and availability. By automating the volunteer matching process, non-profits can increase volunteer engagement, retention, and overall satisfaction, leading to more sustainable volunteer programs. AI-powered predictive analytics tools help non-profits forecast trends, anticipate community needs, and optimize resource allocation. By leveraging data-driven insights, organizations can make informed decisions, mitigate risks, and adapt their strategies to better serve their beneficiaries.\n",
      "\n",
      "Stay tuned for Part 2 of the blog post.\u001b[00m\n",
      "\n",
      "\n"
     ]
    }
   ],
   "source": [
    "topic = \"Non-profit organizations use cases for AI\"\n",
    "result = crew.kickoff(inputs={\"topic\": topic})"
   ]
  },
  {
   "cell_type": "code",
   "execution_count": 17,
   "metadata": {
    "height": 30
   },
   "outputs": [
    {
     "data": {
      "text/markdown": [
       "# Leveraging AI for Social Impact: Non-profit Organizations Utilizing Artificial Intelligence\n",
       "\n",
       "## Introduction\n",
       "In an era characterized by technological advancements, non-profit organizations have increasingly turned to artificial intelligence (AI) to enhance their operations and drive more significant social impact. AI has emerged as a valuable tool that allows non-profits to streamline processes, optimize resource allocation, and achieve their goals more efficiently. This article delves into the various use cases of AI in the non-profit sector, shedding light on how AI technology is transforming social impact initiatives.\n",
       "\n",
       "Artificial Intelligence, or AI, refers to the simulation of human intelligence processes by machines, including learning, reasoning, and self-correction. In the realm of non-profit organizations, AI plays a critical role in enhancing efficiency and effectiveness. By harnessing AI tools, non-profits can automate tasks, analyze vast amounts of data, and make data-driven decisions that contribute to achieving their social missions. The integration of AI can lead to improved outcomes, increased transparency, and enhanced scalability for non-profit initiatives.\n",
       "\n",
       "## Overview of AI in the Non-profit Sector\n",
       "AI integration offers a wide array of benefits for social impact initiatives within non-profit organizations. From enhancing fundraising efforts to improving program evaluation, AI tools empower non-profits to make informed decisions and allocate resources strategically. By leveraging AI for tasks such as donor management, volunteer matching, and predictive analytics, non-profits can optimize their operations and focus on maximizing their impact in the communities they serve.\n",
       "\n",
       "AI tools can analyze donor behavior, predict giving patterns, and personalize fundraising campaigns to maximize donations. Non-profits can use AI-powered platforms to identify potential donors, tailor communication strategies, and optimize fundraising strategies for greater success. AI enables non-profits to track and evaluate the effectiveness of their programs in real-time. By analyzing data and feedback, AI algorithms can help organizations measure outcomes, assess impact, and make data-informed decisions to continuously improve their initiatives. AI platforms can match volunteers with suitable opportunities based on their skills, interests, and availability. By automating the volunteer matching process, non-profits can increase volunteer engagement, retention, and overall satisfaction, leading to more sustainable volunteer programs. AI-powered predictive analytics tools help non-profits forecast trends, anticipate community needs, and optimize resource allocation. By leveraging data-driven insights, organizations can make informed decisions, mitigate risks, and adapt their strategies to better serve their beneficiaries.\n",
       "\n",
       "Stay tuned for Part 2 of the blog post."
      ],
      "text/plain": [
       "<IPython.core.display.Markdown object>"
      ]
     },
     "execution_count": 17,
     "metadata": {},
     "output_type": "execute_result"
    }
   ],
   "source": [
    "Markdown(result.raw)"
   ]
  },
  {
   "cell_type": "markdown",
   "metadata": {},
   "source": [
    "<a name='1'></a>\n",
    " ## Other Popular Models as LLM for your Agents"
   ]
  },
  {
   "cell_type": "markdown",
   "metadata": {},
   "source": [
    "#### Hugging Face (HuggingFaceHub endpoint)\n",
    "\n",
    "```Python\n",
    "from langchain_community.llms import HuggingFaceHub\n",
    "\n",
    "llm = HuggingFaceHub(\n",
    "    repo_id=\"HuggingFaceH4/zephyr-7b-beta\",\n",
    "    huggingfacehub_api_token=\"<HF_TOKEN_HERE>\",\n",
    "    task=\"text-generation\",\n",
    ")\n",
    "\n",
    "### you will pass \"llm\" to your agent function\n",
    "```"
   ]
  },
  {
   "cell_type": "markdown",
   "metadata": {},
   "source": [
    "#### Mistral API\n",
    "\n",
    "```Python\n",
    "OPENAI_API_KEY=your-mistral-api-key\n",
    "OPENAI_API_BASE=https://api.mistral.ai/v1\n",
    "OPENAI_MODEL_NAME=\"mistral-small\"\n",
    "```"
   ]
  },
  {
   "cell_type": "markdown",
   "metadata": {},
   "source": [
    "#### Cohere\n",
    "\n",
    "```Python\n",
    "from langchain_community.chat_models import ChatCohere\n",
    "# Initialize language model\n",
    "os.environ[\"COHERE_API_KEY\"] = \"your-cohere-api-key\"\n",
    "llm = ChatCohere()\n",
    "\n",
    "### you will pass \"llm\" to your agent function\n",
    "```"
   ]
  },
  {
   "cell_type": "markdown",
   "metadata": {},
   "source": [
    "### For using Llama locally with Ollama and more, checkout the crewAI documentation on [Connecting to any LLM](https://docs.crewai.com/how-to/LLM-Connections/)."
   ]
  },
  {
   "cell_type": "code",
   "execution_count": null,
   "metadata": {
    "height": 30
   },
   "outputs": [],
   "source": []
  },
  {
   "cell_type": "code",
   "execution_count": null,
   "metadata": {
    "height": 30
   },
   "outputs": [],
   "source": []
  },
  {
   "cell_type": "code",
   "execution_count": null,
   "metadata": {
    "height": 30
   },
   "outputs": [],
   "source": []
  }
 ],
 "metadata": {
  "colab": {
   "gpuType": "T4",
   "provenance": []
  },
  "kernelspec": {
   "display_name": "Python 3 (ipykernel)",
   "language": "python",
   "name": "python3"
  },
  "language_info": {
   "codemirror_mode": {
    "name": "ipython",
    "version": 3
   },
   "file_extension": ".py",
   "mimetype": "text/x-python",
   "name": "python",
   "nbconvert_exporter": "python",
   "pygments_lexer": "ipython3",
   "version": "3.12.7"
  }
 },
 "nbformat": 4,
 "nbformat_minor": 4
}
